{
 "cells": [
  {
   "cell_type": "code",
   "execution_count": null,
   "id": "db474a86",
   "metadata": {},
   "outputs": [],
   "source": [
    "# 1 Write a Python program to check that a string contains only a certain set of characters (in\n",
    "this case a-z, A-Z and 0-9)."
   ]
  },
  {
   "cell_type": "code",
   "execution_count": 5,
   "id": "7723731f",
   "metadata": {},
   "outputs": [
    {
     "name": "stdout",
     "output_type": "stream",
     "text": [
      "Enter a string: mounika45\n",
      "The string contains only allowed characters.\n"
     ]
    }
   ],
   "source": [
    "import re\n",
    "\n",
    "def contains_only_allowed_chars(string):\n",
    "    pattern = r'^[a-zA-Z0-9]+$'\n",
    "    return re.match(pattern, string) is not None\n",
    "\n",
    "input_string = input(\"Enter a string: \")\n",
    "if contains_only_allowed_chars(input_string):\n",
    "    print(\"The string contains only allowed characters.\")\n",
    "else:\n",
    "    print(\"The string contains disallowed characters.\")"
   ]
  },
  {
   "cell_type": "code",
   "execution_count": null,
   "id": "092511d6",
   "metadata": {},
   "outputs": [],
   "source": [
    "# 2- Create a function in python that matches a string that has an a followed by zero or more b's"
   ]
  },
  {
   "cell_type": "code",
   "execution_count": 2,
   "id": "0ee4a9d7",
   "metadata": {},
   "outputs": [
    {
     "name": "stdout",
     "output_type": "stream",
     "text": [
      "Enter a string: mounika23\n",
      "The string does not match the pattern.\n"
     ]
    }
   ],
   "source": [
    "def match_a_followed_by_b(string):\n",
    "    pattern = r'^ab*$'\n",
    "    return re.match(pattern, string) is not None\n",
    "\n",
    "input_string = input(\"Enter a string: \")\n",
    "if match_a_followed_by_b(input_string):\n",
    "    print(\"The string matches the pattern 'a followed by zero or more b's'.\")\n",
    "else:\n",
    "    print(\"The string does not match the pattern.\")"
   ]
  },
  {
   "cell_type": "code",
   "execution_count": null,
   "id": "b66d0206",
   "metadata": {},
   "outputs": [],
   "source": [
    "#3 Create a function in python that matches a string that has an a followed by one or more b's"
   ]
  },
  {
   "cell_type": "code",
   "execution_count": 8,
   "id": "0e68a9aa",
   "metadata": {},
   "outputs": [
    {
     "name": "stdout",
     "output_type": "stream",
     "text": [
      "matched!\n",
      "matched!\n"
     ]
    }
   ],
   "source": [
    "def text_match(text):\n",
    "        patterns = 'ab+?'\n",
    "        if re.search(patterns, text):\n",
    "                return 'matched!'\n",
    "        else:\n",
    "                return('Not matched!')\n",
    "\n",
    "print(text_match(\"ab\"))\n",
    "print(text_match(\"abbb\"))"
   ]
  },
  {
   "cell_type": "code",
   "execution_count": null,
   "id": "7c45ec99",
   "metadata": {},
   "outputs": [],
   "source": [
    "#4 Create a function in Python and use RegEx that matches a string that has an a followed by\n",
    "zero or one 'b'."
   ]
  },
  {
   "cell_type": "code",
   "execution_count": 11,
   "id": "53ae1af3",
   "metadata": {},
   "outputs": [
    {
     "name": "stdout",
     "output_type": "stream",
     "text": [
      "Enter a string: aa\n",
      "The string does not match the pattern.\n"
     ]
    }
   ],
   "source": [
    "def match_a_followed_by_zero_or_one_b(string):\n",
    "    pattern = r'^ab?$'\n",
    "    return re.match(pattern, string) is not None\n",
    "\n",
    "input_string = input(\"Enter a string: \")\n",
    "if match_a_followed_by_zero_or_one_b(input_string):\n",
    "    print(\"The string matches the pattern 'a followed by zero or one b'.\")\n",
    "else:\n",
    "    print(\"The string does not match the pattern.\")"
   ]
  },
  {
   "cell_type": "code",
   "execution_count": 12,
   "id": "694dd7d8",
   "metadata": {},
   "outputs": [],
   "source": [
    "#5 Question 5- Write a Python program that matches a string that has an a followed by three B."
   ]
  },
  {
   "cell_type": "code",
   "execution_count": 18,
   "id": "24f4d7a9",
   "metadata": {},
   "outputs": [
    {
     "name": "stdout",
     "output_type": "stream",
     "text": [
      "Enter a string: hbbb\n"
     ]
    },
    {
     "ename": "NameError",
     "evalue": "name 'patterns' is not defined",
     "output_type": "error",
     "traceback": [
      "\u001b[1;31m---------------------------------------------------------------------------\u001b[0m",
      "\u001b[1;31mNameError\u001b[0m                                 Traceback (most recent call last)",
      "\u001b[1;32m~\\AppData\\Local\\Temp\\ipykernel_11180\\604677287.py\u001b[0m in \u001b[0;36m<module>\u001b[1;34m\u001b[0m\n\u001b[0;32m      2\u001b[0m         \u001b[0mpatterns\u001b[0m \u001b[1;33m=\u001b[0m \u001b[1;34mr'b{3}?'\u001b[0m\u001b[1;33m\u001b[0m\u001b[1;33m\u001b[0m\u001b[0m\n\u001b[0;32m      3\u001b[0m \u001b[0minput_string\u001b[0m \u001b[1;33m=\u001b[0m \u001b[0minput\u001b[0m \u001b[1;33m(\u001b[0m\u001b[1;34m\"Enter a string: \"\u001b[0m\u001b[1;33m)\u001b[0m\u001b[1;33m\u001b[0m\u001b[1;33m\u001b[0m\u001b[0m\n\u001b[1;32m----> 4\u001b[1;33m \u001b[1;32mif\u001b[0m \u001b[0mre\u001b[0m\u001b[1;33m.\u001b[0m\u001b[0msearch\u001b[0m\u001b[1;33m(\u001b[0m\u001b[0mpatterns\u001b[0m\u001b[1;33m,\u001b[0m  \u001b[0mtext\u001b[0m\u001b[1;33m)\u001b[0m\u001b[1;33m:\u001b[0m\u001b[1;33m\u001b[0m\u001b[1;33m\u001b[0m\u001b[0m\n\u001b[0m\u001b[0;32m      5\u001b[0m  \u001b[0mprint\u001b[0m\u001b[1;33m(\u001b[0m\u001b[1;34m'matched'\u001b[0m\u001b[1;33m)\u001b[0m\u001b[1;33m\u001b[0m\u001b[1;33m\u001b[0m\u001b[0m\n\u001b[0;32m      6\u001b[0m \u001b[1;32melse\u001b[0m\u001b[1;33m:\u001b[0m\u001b[1;33m\u001b[0m\u001b[1;33m\u001b[0m\u001b[0m\n",
      "\u001b[1;31mNameError\u001b[0m: name 'patterns' is not defined"
     ]
    }
   ],
   "source": [
    "def text_match(text):\n",
    "        patterns = r'b{3}?'\n",
    "input_string = input (\"Enter a string: \")\n",
    "if re.search(patterns,  text):\n",
    " print('matched')\n",
    "else:\n",
    " print('Not matched!')\n"
   ]
  },
  {
   "cell_type": "code",
   "execution_count": 19,
   "id": "f6591ef7",
   "metadata": {},
   "outputs": [],
   "source": [
    "# 6 Write a regular expression in Python to split a string into uppercase letters."
   ]
  },
  {
   "cell_type": "code",
   "execution_count": 21,
   "id": "b4dd07bb",
   "metadata": {},
   "outputs": [
    {
     "name": "stdout",
     "output_type": "stream",
     "text": [
      "Enter a string: IndiaIsMyCountry\n",
      "['', 'India', 'Is', 'My', 'Country']\n"
     ]
    }
   ],
   "source": [
    "def split_into_uppercase(string):\n",
    "    pattern = r'(?=[A-Z])'\n",
    "    return re.split(pattern, string)\n",
    "\n",
    "input_string = input(\"Enter a string: \")\n",
    "result = split_into_uppercase(input_string)\n",
    "print(result)"
   ]
  },
  {
   "cell_type": "code",
   "execution_count": null,
   "id": "0a7e214c",
   "metadata": {},
   "outputs": [],
   "source": [
    "# 7 Write a Python program that matches a string that has an a followed by two to three 'b'."
   ]
  },
  {
   "cell_type": "code",
   "execution_count": 23,
   "id": "8d370357",
   "metadata": {},
   "outputs": [
    {
     "name": "stdout",
     "output_type": "stream",
     "text": [
      "Enter a string: abb\n",
      "The string matches the pattern 'a followed by two to three b's'.\n"
     ]
    }
   ],
   "source": [
    "def match_a_followed_by_two_to_three_b(string):\n",
    "    pattern = r'^ab{2,3}$'\n",
    "    return re.match(pattern, string) is not None\n",
    "\n",
    "input_string = input(\"Enter a string: \")\n",
    "if match_a_followed_by_two_to_three_b(input_string):\n",
    "    print(\"The string matches the pattern 'a followed by two to three b's'.\")\n",
    "else:\n",
    "    print(\"The string does not match the pattern.\")"
   ]
  },
  {
   "cell_type": "code",
   "execution_count": null,
   "id": "571fe039",
   "metadata": {},
   "outputs": [],
   "source": [
    "#8 Write a Python program to find sequences of lowercase letters joined with a underscore."
   ]
  },
  {
   "cell_type": "code",
   "execution_count": 26,
   "id": "2446f118",
   "metadata": {},
   "outputs": [
    {
     "name": "stdout",
     "output_type": "stream",
     "text": [
      "Enter a string: hello_team,datascience_tough\n",
      "Sequences of lowercase letters joined with an underscore:\n",
      "['hello_team', 'datascience_tough']\n"
     ]
    }
   ],
   "source": [
    "def find_lowercase_sequences_with_underscore(string):\n",
    "    pattern = r'[a-z]+_[a-z]+'\n",
    "    return re.findall(pattern, string)\n",
    "\n",
    "input_string = input(\"Enter a string: \")\n",
    "result = find_lowercase_sequences_with_underscore(input_string)\n",
    "print(\"Sequences of lowercase letters joined with an underscore:\")\n",
    "print(result)"
   ]
  },
  {
   "cell_type": "code",
   "execution_count": 28,
   "id": "03b1df25",
   "metadata": {},
   "outputs": [],
   "source": [
    "# 9- Write a Python program that matches a string that has an a; followed by anything, ending in b\n",
    "                                                                                                                                  "
   ]
  },
  {
   "cell_type": "code",
   "execution_count": 29,
   "id": "0326be04",
   "metadata": {},
   "outputs": [
    {
     "name": "stdout",
     "output_type": "stream",
     "text": [
      "Enter a string: ayub\n",
      "The string matches the pattern 'a followed by anything, ending in b'.\n"
     ]
    }
   ],
   "source": [
    "\n",
    "def match_a_followed_by_anything_ending_with_b(string):\n",
    "    pattern = r'^a.*b$'\n",
    "    return re.match(pattern, string) is not None\n",
    "\n",
    "input_string = input(\"Enter a string: \")\n",
    "if match_a_followed_by_anything_ending_with_b(input_string):\n",
    "    print(\"The string matches the pattern 'a followed by anything, ending in b'.\")\n",
    "else:\n",
    "    print(\"The string does not match the pattern.\")"
   ]
  },
  {
   "cell_type": "code",
   "execution_count": 30,
   "id": "3589ed66",
   "metadata": {},
   "outputs": [],
   "source": [
    "#10 Write a Python program that matches a word at the beginning of a string."
   ]
  },
  {
   "cell_type": "code",
   "execution_count": 31,
   "id": "637dadee",
   "metadata": {},
   "outputs": [
    {
     "name": "stdout",
     "output_type": "stream",
     "text": [
      "Enter a string: hello datascience\n",
      "Enter a word: Hello datascience\n",
      "The word 'Hello datascience' is not at the beginning of the string.\n"
     ]
    }
   ],
   "source": [
    "def match_word_at_beginning(string, word):\n",
    "    pattern = r'^' + re.escape(word)\n",
    "    return re.match(pattern, string) is not None\n",
    "\n",
    "input_string = input(\"Enter a string: \")\n",
    "input_word = input(\"Enter a word: \")\n",
    "if match_word_at_beginning(input_string, input_word):\n",
    "    print(f\"The word '{input_word}' is at the beginning of the string.\")\n",
    "else:\n",
    "    print(f\"The word '{input_word}' is not at the beginning of the string.\")"
   ]
  },
  {
   "cell_type": "code",
   "execution_count": 32,
   "id": "d1afc928",
   "metadata": {},
   "outputs": [],
   "source": [
    "#11  Write a Python program to match a string that contains only upper and lowercase letters,\n",
    "  numbers, and underscores."
   ]
  },
  {
   "cell_type": "code",
   "execution_count": 33,
   "id": "4e0a28a3",
   "metadata": {},
   "outputs": [
    {
     "name": "stdout",
     "output_type": "stream",
     "text": [
      "Enter a string: dog kills cat\n",
      "The string contains disallowed characters.\n"
     ]
    }
   ],
   "source": [
    "import re\n",
    "\n",
    "def match_allowed_characters(string):\n",
    "    pattern = r'^[a-zA-Z0-9_]+$'\n",
    "    return re.match(pattern, string) is not None\n",
    "\n",
    "input_string = input(\"Enter a string: \")\n",
    "if match_allowed_characters(input_string):\n",
    "    print(\"The string contains only allowed characters.\")\n",
    "else:\n",
    "    print(\"The string contains disallowed characters.\")"
   ]
  },
  {
   "cell_type": "code",
   "execution_count": 34,
   "id": "6f1c172f",
   "metadata": {},
   "outputs": [],
   "source": [
    "# 12 Write a Python program where a string will start with a specific number."
   ]
  },
  {
   "cell_type": "code",
   "execution_count": 38,
   "id": "f6c0eca4",
   "metadata": {},
   "outputs": [
    {
     "name": "stdout",
     "output_type": "stream",
     "text": [
      "Enter a string: 9atnight\n",
      "Enter a number: 9\n",
      "The string starts with the number 9.\n"
     ]
    }
   ],
   "source": [
    "def starts_with_number(string, number):\n",
    "    return string.startswith(str(number))\n",
    "\n",
    "input_string = input(\"Enter a string: \")\n",
    "input_number = input(\"Enter a number: \")\n",
    "if starts_with_number(input_string, input_number):\n",
    "    print(f\"The string starts with the number {input_number}.\")\n",
    "else:\n",
    "    print(f\"The string does not start with the number {input_number}.\")\n",
    "    "
   ]
  },
  {
   "cell_type": "code",
   "execution_count": 39,
   "id": "5de802d0",
   "metadata": {},
   "outputs": [],
   "source": [
    "#13 Write a Python program to remove leading zeros from an IP address"
   ]
  },
  {
   "cell_type": "code",
   "execution_count": 42,
   "id": "e1053251",
   "metadata": {},
   "outputs": [
    {
     "name": "stdout",
     "output_type": "stream",
     "text": [
      "Enter an IP address: 64.233.160.0 – 64.233.191.255\n",
      "Cleaned IP address: \n"
     ]
    }
   ],
   "source": [
    "def remove_leading_zeros(ip_address):\n",
    "    split_address = ip_address.split('.')\n",
    "    cleaned_address = []\n",
    "    for segment in split_address:\n",
    "        cleaned_segment = str(int(segment))\n",
    "        return '.'.join(cleaned_address)\n",
    "\n",
    "input_address = input(\"Enter an IP address: \")\n",
    "cleaned_address = remove_leading_zeros(input_address)\n",
    "print(f\"Cleaned IP address: {cleaned_address}\")"
   ]
  },
  {
   "cell_type": "code",
   "execution_count": 44,
   "id": "ea8bd37e",
   "metadata": {},
   "outputs": [],
   "source": [
    "#14 Write a regular expression in python to match a date string in the form of Month name followed by day number and year stored in a text file.                                                                  "
   ]
  },
  {
   "cell_type": "code",
   "execution_count": 48,
   "id": "8d659b2c",
   "metadata": {},
   "outputs": [
    {
     "ename": "FileNotFoundError",
     "evalue": "[Errno 2] No such file or directory: \"on 26 january 1952 is the india's republic day\"",
     "output_type": "error",
     "traceback": [
      "\u001b[1;31m---------------------------------------------------------------------------\u001b[0m",
      "\u001b[1;31mFileNotFoundError\u001b[0m                         Traceback (most recent call last)",
      "\u001b[1;32m~\\AppData\\Local\\Temp\\ipykernel_11180\\153065894.py\u001b[0m in \u001b[0;36m<module>\u001b[1;34m\u001b[0m\n\u001b[0;32m      1\u001b[0m \u001b[0mpattern\u001b[0m \u001b[1;33m=\u001b[0m \u001b[1;34mr'([A-Za-z]+) (\\d{1,2}), (\\d{4})'\u001b[0m\u001b[1;33m\u001b[0m\u001b[1;33m\u001b[0m\u001b[0m\n\u001b[0;32m      2\u001b[0m \u001b[1;33m\u001b[0m\u001b[0m\n\u001b[1;32m----> 3\u001b[1;33m \u001b[1;32mwith\u001b[0m \u001b[0mopen\u001b[0m\u001b[1;33m(\u001b[0m\u001b[1;34m\"on 26 january 1952 is the india's republic day\"\u001b[0m\u001b[1;33m,\u001b[0m \u001b[1;34m\"r\"\u001b[0m\u001b[1;33m)\u001b[0m \u001b[1;32mas\u001b[0m \u001b[0mfile\u001b[0m\u001b[1;33m:\u001b[0m\u001b[1;33m\u001b[0m\u001b[1;33m\u001b[0m\u001b[0m\n\u001b[0m\u001b[0;32m      4\u001b[0m     \u001b[1;32mfor\u001b[0m \u001b[0mline\u001b[0m \u001b[1;32min\u001b[0m \u001b[0mfile\u001b[0m\u001b[1;33m:\u001b[0m\u001b[1;33m\u001b[0m\u001b[1;33m\u001b[0m\u001b[0m\n\u001b[0;32m      5\u001b[0m         \u001b[0mmatch\u001b[0m \u001b[1;33m=\u001b[0m \u001b[0mre\u001b[0m\u001b[1;33m.\u001b[0m\u001b[0mmatch\u001b[0m\u001b[1;33m(\u001b[0m\u001b[0mpattern\u001b[0m\u001b[1;33m,\u001b[0m \u001b[0mline\u001b[0m\u001b[1;33m)\u001b[0m\u001b[1;33m\u001b[0m\u001b[1;33m\u001b[0m\u001b[0m\n",
      "\u001b[1;31mFileNotFoundError\u001b[0m: [Errno 2] No such file or directory: \"on 26 january 1952 is the india's republic day\""
     ]
    }
   ],
   "source": [
    "pattern = r'([A-Za-z]+) (\\d{1,2}), (\\d{4})'\n",
    "\n",
    "with open(\"on 26 january 1952 is the india's republic day\", \"r\") as file:\n",
    "    for line in file:\n",
    "        match = re.match(pattern, line)\n",
    "        if match:\n",
    "            month, day, year = match.groups()\n",
    "            print(f\"Date: {month} {day}, {year}\")"
   ]
  },
  {
   "cell_type": "code",
   "execution_count": 50,
   "id": "327647dc",
   "metadata": {},
   "outputs": [],
   "source": [
    "#15 Write a Python program to search some literals strings in a string. Go to the editor"
   ]
  },
  {
   "cell_type": "code",
   "execution_count": 52,
   "id": "b48ee9d7",
   "metadata": {},
   "outputs": [
    {
     "name": "stdout",
     "output_type": "stream",
     "text": [
      "Enter a string: i love icecreams and those are tasty\n",
      "Enter literals to search (separated by space): tasty icecreams\n",
      "Found literals:\n",
      "['tasty', 'icecreams']\n"
     ]
    }
   ],
   "source": [
    "def search_literals(string, literals):\n",
    "    found_literals = []\n",
    "    for literal in literals:\n",
    "        if literal in string:\n",
    "            found_literals.append(literal)\n",
    "    return found_literals\n",
    "\n",
    "input_string = input(\"Enter a string: \")\n",
    "input_literals = input(\"Enter literals to search (separated by space): \").split()\n",
    "found_literals = search_literals(input_string, input_literals)\n",
    "print(\"Found literals:\")\n",
    "print(found_literals)"
   ]
  },
  {
   "cell_type": "code",
   "execution_count": 53,
   "id": "72d0c1c9",
   "metadata": {},
   "outputs": [],
   "source": [
    "#16 Write a Python program to search a literals string in a string and also find the location within the original string where the pattern occurs"
   ]
  },
  {
   "cell_type": "code",
   "execution_count": 54,
   "id": "6f443915",
   "metadata": {},
   "outputs": [
    {
     "name": "stdout",
     "output_type": "stream",
     "text": [
      "Enter a string: i love icecreams over fruits\n",
      "Enter literals to search (separated by space): love fruits\n",
      "Found literals with their locations:\n",
      "Literal: love, Location: 2\n",
      "Literal: fruits, Location: 22\n"
     ]
    }
   ],
   "source": [
    "def search_literals_with_location(string, literals):\n",
    "    found_literals = []\n",
    "    for literal in literals:\n",
    "        index = string.find(literal)\n",
    "        if index != -1:\n",
    "            found_literals.append((literal, index))\n",
    "    return found_literals\n",
    "\n",
    "input_string = input(\"Enter a string: \")\n",
    "input_literals = input(\"Enter literals to search (separated by space): \").split()\n",
    "found_literals = search_literals_with_location(input_string, input_literals)\n",
    "print(\"Found literals with their locations:\")\n",
    "for literal, index in found_literals:\n",
    "    print(f\"Literal: {literal}, Location: {index}\")"
   ]
  },
  {
   "cell_type": "code",
   "execution_count": 1,
   "id": "d0b4e2dc",
   "metadata": {},
   "outputs": [],
   "source": [
    "#17 Write a Python program to find the substrings within a string."
   ]
  },
  {
   "cell_type": "code",
   "execution_count": 2,
   "id": "6a62378a",
   "metadata": {},
   "outputs": [
    {
     "ename": "IndentationError",
     "evalue": "unexpected indent (3250283602.py, line 2)",
     "output_type": "error",
     "traceback": [
      "\u001b[1;36m  File \u001b[1;32m\"C:\\Users\\Q Hammad\\AppData\\Local\\Temp\\ipykernel_8224\\3250283602.py\"\u001b[1;36m, line \u001b[1;32m2\u001b[0m\n\u001b[1;33m    substrings = []\u001b[0m\n\u001b[1;37m    ^\u001b[0m\n\u001b[1;31mIndentationError\u001b[0m\u001b[1;31m:\u001b[0m unexpected indent\n"
     ]
    }
   ],
   "source": [
    "#def find_substrings(string):\n",
    "    substrings = []\n",
    "    for i in range(len(string)):\n",
    "        for j in range(i, len(string)):\n",
    "            substrings.append(string[i:j])\n",
    "    return substrings\n",
    "\n",
    "input_string = input(\"Enter a string: \")\n",
    "substrings = find_substrings(input_string)\n",
    "for substring in substrings:\n",
    "    print(substring)\n"
   ]
  },
  {
   "cell_type": "code",
   "execution_count": 3,
   "id": "b5fd2577",
   "metadata": {},
   "outputs": [],
   "source": [
    "#18 Write a Python program to find the occurrence and position of the substrings within a string."
   ]
  },
  {
   "cell_type": "code",
   "execution_count": 4,
   "id": "314c5f54",
   "metadata": {},
   "outputs": [
    {
     "name": "stdout",
     "output_type": "stream",
     "text": [
      "Enter a string: php excercises, c excercises, java excercises\n",
      "Enter a substring to search for: excercises\n",
      "Substring 'excercises' occurs at positions:\n",
      "4\n",
      "18\n",
      "35\n"
     ]
    }
   ],
   "source": [
    "def find_substring_occurrences(string, substring):\n",
    "    occurrences = []\n",
    "    index = -1\n",
    "    while True:\n",
    "        index = string.find(substring, index + 1)\n",
    "        if index == -1:\n",
    "            break\n",
    "        occurrences.append(index)\n",
    "    return occurrences\n",
    "\n",
    "input_string = input(\"Enter a string: \")\n",
    "input_substring = input(\"Enter a substring to search for: \")\n",
    "occurrences = find_substring_occurrences(input_string, input_substring)\n",
    "print(f\"Substring '{input_substring}' occurs at positions:\")\n",
    "for index in occurrences:\n",
    "    print(index)\n"
   ]
  },
  {
   "cell_type": "code",
   "execution_count": 5,
   "id": "74f97c25",
   "metadata": {},
   "outputs": [],
   "source": [
    "#19 Write a Python program to convert a date of yyyy-mm-dd format to dd-mm-yyyy format."
   ]
  },
  {
   "cell_type": "code",
   "execution_count": 6,
   "id": "634ac0c1",
   "metadata": {},
   "outputs": [
    {
     "name": "stdout",
     "output_type": "stream",
     "text": [
      "Enter a date in yyyy-mm-dd format: 1990-04-12\n",
      "Converted date: 12-04-1990\n"
     ]
    }
   ],
   "source": [
    "def convert_date_format(date):\n",
    "    parts = date.split('-')\n",
    "    converted_date = parts[2] + '-' + parts[1] + '-' + parts[0]\n",
    "    return converted_date\n",
    "\n",
    "input_date = input(\"Enter a date in yyyy-mm-dd format: \")\n",
    "converted_date = convert_date_format(input_date)\n",
    "print(\"Converted date:\", converted_date)\n"
   ]
  },
  {
   "cell_type": "code",
   "execution_count": 8,
   "id": "f01d2f71",
   "metadata": {},
   "outputs": [],
   "source": [
    "#20 Write a Python program to find all words starting with &#39;a&#39; or &#39;e&#39; in a given string."
   ]
  },
  {
   "cell_type": "code",
   "execution_count": 12,
   "id": "44074c40",
   "metadata": {},
   "outputs": [
    {
     "name": "stdout",
     "output_type": "stream",
     "text": [
      "Enter a string: arun\n",
      "Words starting with 'a' or 'e':\n",
      "arun\n"
     ]
    }
   ],
   "source": [
    "def find_words_starting_with_a_or_e(string):\n",
    "    pattern = r'\\b[ae]\\w+\\b'\n",
    "    matches = re.findall(pattern, string, flags=re.IGNORECASE)\n",
    "    return matches\n",
    "\n",
    "input_string = input(\"Enter a string: \")\n",
    "words = find_words_starting_with_a_or_e(input_string)\n",
    "print(\"Words starting with 'a' or 'e':\")\n",
    "for word in words:\n",
    "    print(word)"
   ]
  },
  {
   "cell_type": "code",
   "execution_count": 1,
   "id": "3fe8f6a2",
   "metadata": {},
   "outputs": [],
   "source": [
    "#21 Write a Python program to separate and print the numbers and their position of a given string.\n"
   ]
  },
  {
   "cell_type": "code",
   "execution_count": 8,
   "id": "9c1842f9",
   "metadata": {
    "scrolled": true
   },
   "outputs": [
    {
     "name": "stdout",
     "output_type": "stream",
     "text": [
      "Numbers:\n",
      "406\n",
      "000\n",
      "Positions:\n",
      "12\n",
      "21\n"
     ]
    }
   ],
   "source": [
    "def separate_numbers(string):\n",
    "    pattern = r'\\d+'\n",
    "    numbers = re.findall(pattern, string)\n",
    "    positions = [m.start() for m in re.finditer(pattern, string)]\n",
    "    \n",
    "    print(\"Numbers:\")\n",
    "    for num in numbers:\n",
    "        print(num)\n",
    "        \n",
    "    print(\"Positions:\")\n",
    "    for pos in positions:\n",
    "        print(pos)\n",
    "\n",
    "input_string = \"Heloo world 406 i am 000\"\n",
    "separate_numbers(input_string)\n"
   ]
  },
  {
   "cell_type": "code",
   "execution_count": 9,
   "id": "11e43bc4",
   "metadata": {},
   "outputs": [],
   "source": [
    "#22 Write a Python program to separate and print the numbers and their position of a given string."
   ]
  },
  {
   "cell_type": "code",
   "execution_count": 15,
   "id": "1023fd56",
   "metadata": {},
   "outputs": [
    {
     "name": "stdout",
     "output_type": "stream",
     "text": [
      "Enter a string: 679ngjm875rvjk98765l0\n",
      "Maximum numeric value: 98765\n"
     ]
    }
   ],
   "source": [
    "def extract_max_numeric_value(string):\n",
    "    pattern = r'\\d+'  # Match one or more digits\n",
    "    numbers = re.findall(pattern, string)\n",
    "    \n",
    "    if numbers:\n",
    "        max_value = max(map(int, numbers))\n",
    "        return max_value\n",
    "    else:\n",
    "        return None\n",
    "\n",
    "input_string = input(\"Enter a string: \")\n",
    "max_value = extract_max_numeric_value(input_string)\n",
    "print(\"Maximum numeric value:\", max_value)"
   ]
  },
  {
   "cell_type": "code",
   "execution_count": 16,
   "id": "913cb056",
   "metadata": {},
   "outputs": [],
   "source": [
    "#23 Write a Regex in Python to put spaces between words starting with capital letters "
   ]
  },
  {
   "cell_type": "code",
   "execution_count": 18,
   "id": "ae229913",
   "metadata": {},
   "outputs": [
    {
     "name": "stdout",
     "output_type": "stream",
     "text": [
      "Enter a string: HanvithIsGoodBoy\n",
      "Modified string:  Hanvith Is Good Boy\n"
     ]
    }
   ],
   "source": [
    "def add_spaces_between_capital_words(string):\n",
    "    pattern = r'([A-Z][a-z]+)'\n",
    "    modified_string = re.sub(pattern, r' \\1', string)\n",
    "    return modified_string\n",
    "\n",
    "\n",
    "# User input\n",
    "input_string = input(\"Enter a string: \")\n",
    "modified_string = add_spaces_between_capital_words(input_string)\n",
    "print(\"Modified string:\", modified_string)\n"
   ]
  },
  {
   "cell_type": "code",
   "execution_count": 19,
   "id": "53bdeabc",
   "metadata": {},
   "outputs": [],
   "source": [
    "#24 Python regex to find sequences of one upper case letter followed by lower case letters"
   ]
  },
  {
   "cell_type": "code",
   "execution_count": 21,
   "id": "c2ada0e5",
   "metadata": {},
   "outputs": [
    {
     "name": "stdout",
     "output_type": "stream",
     "text": [
      "Enter a string: Pets are costly\n",
      "Sequences found: ['Pets']\n"
     ]
    }
   ],
   "source": [
    "def find_sequences(string):\n",
    "    pattern = r'[A-Z][a-z]+'\n",
    "    sequences = re.findall(pattern, string)\n",
    "    return sequences\n",
    "\n",
    "input_string = input(\"Enter a string: \")\n",
    "result = find_sequences(input_string)\n",
    "print(\"Sequences found:\", result)\n",
    "\n"
   ]
  },
  {
   "cell_type": "code",
   "execution_count": null,
   "id": "88752fc0",
   "metadata": {},
   "outputs": [],
   "source": [
    "#25 Write a Python program to remove duplicate words from Sentence using Regular Expression"
   ]
  },
  {
   "cell_type": "code",
   "execution_count": 23,
   "id": "e2259484",
   "metadata": {},
   "outputs": [
    {
     "name": "stdout",
     "output_type": "stream",
     "text": [
      "Enter a sentence: Dogs are behind cats, dogs are barking at other animals aswell\n",
      "Modified sentence: Dogs behind cats, dogs are barking at other animals aswell\n"
     ]
    }
   ],
   "source": [
    "def remove_duplicate_words(sentence):\n",
    "    pattern = r'\\b(\\w+)\\b\\s+(?=.*\\b\\1\\b)'\n",
    "    modified_sentence = re.sub(pattern, '', sentence)\n",
    "    return modified_sentence.strip()\n",
    "\n",
    "input_sentence = input(\"Enter a sentence: \")\n",
    "modified_sentence = remove_duplicate_words(input_sentence)\n",
    "print(\"Modified sentence:\", modified_sentence)\n"
   ]
  },
  {
   "cell_type": "code",
   "execution_count": 24,
   "id": "2568c575",
   "metadata": {},
   "outputs": [],
   "source": [
    "#26 Write a python program using RegEx to accept string ending with alphanumeric character."
   ]
  },
  {
   "cell_type": "code",
   "execution_count": 25,
   "id": "6796f949",
   "metadata": {},
   "outputs": [
    {
     "name": "stdout",
     "output_type": "stream",
     "text": [
      "Enter a string: hello 5 check 5\n",
      "String accepted.\n"
     ]
    }
   ],
   "source": [
    "def accept_ending_alphanumeric(string):\n",
    "    pattern = r'^.*[a-zA-Z0-9]$'\n",
    "    match = re.match(pattern, string)\n",
    "    return match is not None\n",
    "\n",
    "input_string = input(\"Enter a string: \")\n",
    "is_valid = accept_ending_alphanumeric(input_string)\n",
    "if is_valid:\n",
    "    print(\"String accepted.\")\n",
    "else:\n",
    "    print(\"String rejected.\")"
   ]
  },
  {
   "cell_type": "code",
   "execution_count": 26,
   "id": "3976d671",
   "metadata": {},
   "outputs": [],
   "source": [
    "#27 Write a python program using RegEx to extract the hashtags."
   ]
  },
  {
   "cell_type": "code",
   "execution_count": 28,
   "id": "9940402c",
   "metadata": {},
   "outputs": [
    {
     "name": "stdout",
     "output_type": "stream",
     "text": [
      "Enter a string: Hello #world #welcome to #phyton\n",
      "Extracted hashtags: ['#world', '#welcome', '#phyton']\n"
     ]
    }
   ],
   "source": [
    "def extract_hashtags(string):\n",
    "    pattern = r'\\#\\w+'\n",
    "    hashtags = re.findall(pattern, string)\n",
    "    return hashtags\n",
    "\n",
    "input_string = input(\"Enter a string: \")\n",
    "hashtags = extract_hashtags(input_string)\n",
    "print(\"Extracted hashtags:\", hashtags)\n"
   ]
  },
  {
   "cell_type": "code",
   "execution_count": 29,
   "id": "0c1c86b8",
   "metadata": {},
   "outputs": [],
   "source": [
    "#28 Write a python program using RegEx to remove <U+...> like symbols"
   ]
  },
  {
   "cell_type": "code",
   "execution_count": 35,
   "id": "31e4c7cc",
   "metadata": {},
   "outputs": [
    {
     "name": "stdout",
     "output_type": "stream",
     "text": [
      "Enter a string: PythonU+mu\n",
      "Modified string: PythonU+mu\n"
     ]
    }
   ],
   "source": [
    "def remove_symbols(string):\n",
    "    pattern = r'<U\\+\\w+>'\n",
    "    modified_string = re.sub(pattern, '', string)\n",
    "    return modified_string\n",
    "\n",
    "input_string = input(\"Enter a string: \")\n",
    "modified_string = remove_symbols(input_string)\n",
    "print(\"Modified string:\", modified_string)"
   ]
  },
  {
   "cell_type": "code",
   "execution_count": 36,
   "id": "56f01ffe",
   "metadata": {},
   "outputs": [],
   "source": [
    "#29 Write a python program to extract dates from the text stored in the text file."
   ]
  },
  {
   "cell_type": "code",
   "execution_count": 43,
   "id": "fc5be676",
   "metadata": {},
   "outputs": [
    {
     "name": "stdout",
     "output_type": "stream",
     "text": [
      "Enter the file name: dates.text\n",
      "Extracted dates: ['26-01-1952']\n"
     ]
    }
   ],
   "source": [
    "def extract_dates_from_file(filename):\n",
    "    with open(filename, 'r') as file:\n",
    "        text = file.read()\n",
    "        pattern = r'\\b(?:\\d{1,2}[/\\-]){2}\\d{2,4}\\b'\n",
    "        dates = re.findall(pattern, text)\n",
    "        return dates\n",
    "\n",
    "filename = input(\"Enter the file name: \")\n",
    "dates = extract_dates_from_file(filename)\n",
    "print(\"Extracted dates:\", dates)\n"
   ]
  },
  {
   "cell_type": "code",
   "execution_count": 44,
   "id": "6da72c2a",
   "metadata": {},
   "outputs": [],
   "source": [
    "#30 Write a Python program to replace all occurrences of a space, comma, or dot with a colon."
   ]
  },
  {
   "cell_type": "code",
   "execution_count": 45,
   "id": "c8659b4b",
   "metadata": {},
   "outputs": [
    {
     "name": "stdout",
     "output_type": "stream",
     "text": [
      "Enter a string: How, are, you and what.u are doing\n",
      "Modified string: How::are::you:and:what:u:are:doing\n"
     ]
    }
   ],
   "source": [
    "def replace_spaces_commas_dots_with_colon(string):\n",
    "    modified_string = string.replace(' ', ':').replace(',', ':').replace('.', ':')\n",
    "    return modified_string\n",
    "\n",
    "input_string = input(\"Enter a string: \")\n",
    "modified_string = replace_spaces_commas_dots_with_colon(input_string)\n",
    "print(\"Modified string:\", modified_string)\n"
   ]
  },
  {
   "cell_type": "code",
   "execution_count": null,
   "id": "a15c0ee0",
   "metadata": {},
   "outputs": [],
   "source": []
  }
 ],
 "metadata": {
  "kernelspec": {
   "display_name": "Python 3 (ipykernel)",
   "language": "python",
   "name": "python3"
  },
  "language_info": {
   "codemirror_mode": {
    "name": "ipython",
    "version": 3
   },
   "file_extension": ".py",
   "mimetype": "text/x-python",
   "name": "python",
   "nbconvert_exporter": "python",
   "pygments_lexer": "ipython3",
   "version": "3.9.13"
  }
 },
 "nbformat": 4,
 "nbformat_minor": 5
}
